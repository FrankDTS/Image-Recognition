{
 "cells": [
  {
   "cell_type": "code",
   "execution_count": 1501,
   "metadata": {},
   "outputs": [],
   "source": [
    "from keras.datasets import cifar10"
   ]
  },
  {
   "cell_type": "code",
   "execution_count": 1502,
   "metadata": {},
   "outputs": [],
   "source": [
    "import numpy as np\n",
    "import pandas as pd\n",
    "import matplotlib.pyplot as plt\n",
    "import tensorflow as tf\n",
    "from keras.utils.np_utils import to_categorical\n",
    "from keras.preprocessing.image import ImageDataGenerator\n",
    "from keras.layers import Dense, Softmax, Dropout\n",
    "from keras.layers.normalization import BatchNormalization\n"
   ]
  },
  {
   "cell_type": "code",
   "execution_count": 1503,
   "metadata": {},
   "outputs": [],
   "source": [
    "(x_train, y_train), (x_test, y_test) = cifar10.load_data()"
   ]
  },
  {
   "cell_type": "code",
   "execution_count": 1504,
   "metadata": {},
   "outputs": [],
   "source": [
    "y_train = to_categorical(y_train, 10)\n",
    "y_test = to_categorical(y_test, 10)"
   ]
  },
  {
   "cell_type": "code",
   "execution_count": 1505,
   "metadata": {},
   "outputs": [
    {
     "data": {
      "text/plain": [
       "array([[0., 0., 0., ..., 0., 0., 0.],\n",
       "       [0., 0., 0., ..., 0., 0., 1.],\n",
       "       [0., 0., 0., ..., 0., 0., 1.],\n",
       "       ...,\n",
       "       [0., 0., 0., ..., 0., 0., 1.],\n",
       "       [0., 1., 0., ..., 0., 0., 0.],\n",
       "       [0., 1., 0., ..., 0., 0., 0.]], dtype=float32)"
      ]
     },
     "execution_count": 1505,
     "metadata": {},
     "output_type": "execute_result"
    }
   ],
   "source": [
    "y_train"
   ]
  },
  {
   "cell_type": "code",
   "execution_count": null,
   "metadata": {},
   "outputs": [],
   "source": [
    "\n",
    "\n"
   ]
  },
  {
   "cell_type": "markdown",
   "metadata": {},
   "source": [
    "# Create Model"
   ]
  },
  {
   "cell_type": "code",
   "execution_count": 1506,
   "metadata": {},
   "outputs": [],
   "source": [
    "cnn = tf.keras.models.Sequential()"
   ]
  },
  {
   "cell_type": "code",
   "execution_count": 1507,
   "metadata": {},
   "outputs": [],
   "source": [
    "cnn.add(tf.keras.layers.Conv2D(filters=32, kernel_size=3, padding = 'same',\n",
    "        activation='relu', input_shape=[32, 32, 3]))\n",
    "cnn.add(tf.keras.layers.MaxPool2D(pool_size=2, strides=2))\n",
    "cnn.add(Dropout(0.2))\n",
    "#cnn.add(BatchNormalization())\n"
   ]
  },
  {
   "cell_type": "code",
   "execution_count": 1508,
   "metadata": {},
   "outputs": [],
   "source": [
    "cnn.add(tf.keras.layers.Conv2D(filters=32, kernel_size=3, padding = 'same', \n",
    "        activation='relu'))\n",
    "cnn.add(tf.keras.layers.MaxPool2D(pool_size=2, strides=2))\n",
    "cnn.add(Dropout(0.3))\n",
    "#cnn.add(BatchNormalization())\n"
   ]
  },
  {
   "cell_type": "code",
   "execution_count": 1509,
   "metadata": {},
   "outputs": [],
   "source": [
    "cnn.add(tf.keras.layers.Conv2D(filters=32, kernel_size=3, padding = 'same',\n",
    "        activation='relu'))\n",
    "cnn.add(tf.keras.layers.MaxPool2D(pool_size=2, strides=2))\n",
    "cnn.add(Dropout(0.4))\n",
    "#cnn.add(BatchNormalization())\n",
    "\n"
   ]
  },
  {
   "cell_type": "markdown",
   "metadata": {},
   "source": [
    "### Flattening"
   ]
  },
  {
   "cell_type": "code",
   "execution_count": 1510,
   "metadata": {},
   "outputs": [],
   "source": [
    "cnn.add(tf.keras.layers.Flatten())\n",
    "cnn.add(Dropout(0.2))"
   ]
  },
  {
   "cell_type": "code",
   "execution_count": 1511,
   "metadata": {},
   "outputs": [],
   "source": [
    "cnn.add(tf.keras.layers.Dense(units=512, activation='relu',\n",
    "       kernel_initializer = 'normal'))\n",
    "cnn.add(Dropout(0.2))"
   ]
  },
  {
   "cell_type": "code",
   "execution_count": 1512,
   "metadata": {},
   "outputs": [],
   "source": [
    "cnn.add(tf.keras.layers.Dense(units=256, activation='tanh',\n",
    "       kernel_initializer = 'normal'))\n",
    "cnn.add(Dropout(0.3))"
   ]
  },
  {
   "cell_type": "code",
   "execution_count": 1513,
   "metadata": {},
   "outputs": [],
   "source": [
    "cnn.add(tf.keras.layers.Dense(units=128, activation='tanh'))\n",
    "#cnn.add(Dropout(0.3))"
   ]
  },
  {
   "cell_type": "code",
   "execution_count": 1514,
   "metadata": {},
   "outputs": [],
   "source": [
    "# cnn.add(tf.keras.layers.Dense(units=32, activation='tanh'))\n",
    "# #cnn.add(Dropout(0.3))"
   ]
  },
  {
   "cell_type": "code",
   "execution_count": 1515,
   "metadata": {},
   "outputs": [],
   "source": [
    "cnn.add(tf.keras.layers.Dense(units=10, kernel_initializer = 'normal',\n",
    "                              activation='softmax'))"
   ]
  },
  {
   "cell_type": "code",
   "execution_count": 1516,
   "metadata": {},
   "outputs": [],
   "source": [
    "cnn.compile(optimizer = 'adam', \n",
    "            loss = 'categorical_crossentropy',\n",
    "            metrics = ['accuracy'])\n",
    "                \n"
   ]
  },
  {
   "cell_type": "code",
   "execution_count": null,
   "metadata": {},
   "outputs": [],
   "source": []
  },
  {
   "cell_type": "code",
   "execution_count": 1517,
   "metadata": {},
   "outputs": [],
   "source": [
    "x_train = x_train.astype('float32')\n",
    "x_test = x_test.astype('float32')\n",
    "x_train /= 255\n",
    "x_test /= 255"
   ]
  },
  {
   "cell_type": "code",
   "execution_count": 1518,
   "metadata": {},
   "outputs": [],
   "source": [
    "# y_train = y_train.astype('float32')\n",
    "# y_test = y_test.astype('float32')"
   ]
  },
  {
   "cell_type": "code",
   "execution_count": null,
   "metadata": {},
   "outputs": [],
   "source": [
    "\n"
   ]
  },
  {
   "cell_type": "code",
   "execution_count": 1519,
   "metadata": {},
   "outputs": [
    {
     "name": "stdout",
     "output_type": "stream",
     "text": [
      "Epoch 1/50\n",
      "782/782 [==============================] - 81s 102ms/step - loss: 2.0058 - accuracy: 0.2405 - val_loss: 1.4689 - val_accuracy: 0.4558\n",
      "Epoch 2/50\n",
      "782/782 [==============================] - 70s 90ms/step - loss: 1.6644 - accuracy: 0.3845 - val_loss: 1.3725 - val_accuracy: 0.4956\n",
      "Epoch 3/50\n",
      "782/782 [==============================] - 77s 99ms/step - loss: 1.5705 - accuracy: 0.4197 - val_loss: 1.3594 - val_accuracy: 0.5019\n",
      "Epoch 4/50\n",
      "782/782 [==============================] - 79s 101ms/step - loss: 1.4874 - accuracy: 0.4562 - val_loss: 1.2406 - val_accuracy: 0.5526\n",
      "Epoch 5/50\n",
      "782/782 [==============================] - 85s 109ms/step - loss: 1.4490 - accuracy: 0.4755 - val_loss: 1.2867 - val_accuracy: 0.5311\n",
      "Epoch 6/50\n",
      "782/782 [==============================] - 82s 105ms/step - loss: 1.4187 - accuracy: 0.4842 - val_loss: 1.3476 - val_accuracy: 0.5072\n",
      "Epoch 7/50\n",
      "782/782 [==============================] - 74s 94ms/step - loss: 1.3867 - accuracy: 0.4978 - val_loss: 1.2225 - val_accuracy: 0.5451\n",
      "Epoch 8/50\n",
      "782/782 [==============================] - 99s 126ms/step - loss: 1.3773 - accuracy: 0.5028 - val_loss: 1.1921 - val_accuracy: 0.5707\n",
      "Epoch 9/50\n",
      "782/782 [==============================] - 87s 111ms/step - loss: 1.3466 - accuracy: 0.5139 - val_loss: 1.3029 - val_accuracy: 0.5336\n",
      "Epoch 10/50\n",
      "782/782 [==============================] - 82s 105ms/step - loss: 1.3314 - accuracy: 0.5219 - val_loss: 1.2709 - val_accuracy: 0.5381\n",
      "Epoch 11/50\n",
      "782/782 [==============================] - 81s 104ms/step - loss: 1.3048 - accuracy: 0.5306 - val_loss: 1.1848 - val_accuracy: 0.5691\n",
      "Epoch 12/50\n",
      "782/782 [==============================] - 85s 108ms/step - loss: 1.2991 - accuracy: 0.5370 - val_loss: 1.0762 - val_accuracy: 0.6136\n",
      "Epoch 13/50\n",
      "782/782 [==============================] - 79s 101ms/step - loss: 1.2774 - accuracy: 0.5461 - val_loss: 1.1456 - val_accuracy: 0.5874\n",
      "Epoch 14/50\n",
      "782/782 [==============================] - 76s 98ms/step - loss: 1.2738 - accuracy: 0.5485 - val_loss: 1.2608 - val_accuracy: 0.5578\n",
      "Epoch 15/50\n",
      "782/782 [==============================] - 72s 92ms/step - loss: 1.2761 - accuracy: 0.5421 - val_loss: 1.0572 - val_accuracy: 0.6251\n",
      "Epoch 16/50\n",
      "782/782 [==============================] - 79s 100ms/step - loss: 1.2484 - accuracy: 0.5572 - val_loss: 1.0219 - val_accuracy: 0.6448\n",
      "Epoch 17/50\n",
      "782/782 [==============================] - 76s 97ms/step - loss: 1.2417 - accuracy: 0.5568 - val_loss: 1.0707 - val_accuracy: 0.6215\n",
      "Epoch 18/50\n",
      "782/782 [==============================] - 75s 96ms/step - loss: 1.2264 - accuracy: 0.5647 - val_loss: 0.9887 - val_accuracy: 0.6549\n",
      "Epoch 19/50\n",
      "782/782 [==============================] - 71s 90ms/step - loss: 1.2292 - accuracy: 0.5563 - val_loss: 0.9448 - val_accuracy: 0.6685\n",
      "Epoch 20/50\n",
      "782/782 [==============================] - 74s 94ms/step - loss: 1.2108 - accuracy: 0.5683 - val_loss: 0.9610 - val_accuracy: 0.6611\n",
      "Epoch 21/50\n",
      "782/782 [==============================] - 74s 94ms/step - loss: 1.2002 - accuracy: 0.5699 - val_loss: 1.0297 - val_accuracy: 0.6342\n",
      "Epoch 22/50\n",
      "782/782 [==============================] - 73s 93ms/step - loss: 1.2092 - accuracy: 0.5695 - val_loss: 1.0865 - val_accuracy: 0.6158\n",
      "Epoch 23/50\n",
      "782/782 [==============================] - 70s 89ms/step - loss: 1.1970 - accuracy: 0.5801 - val_loss: 0.9823 - val_accuracy: 0.6535\n",
      "Epoch 24/50\n",
      "782/782 [==============================] - 66s 84ms/step - loss: 1.1945 - accuracy: 0.5795 - val_loss: 1.0283 - val_accuracy: 0.6339\n",
      "Epoch 25/50\n",
      "782/782 [==============================] - 67s 86ms/step - loss: 1.1897 - accuracy: 0.5764 - val_loss: 1.0198 - val_accuracy: 0.6322\n",
      "Epoch 26/50\n",
      "782/782 [==============================] - 73s 93ms/step - loss: 1.1847 - accuracy: 0.5777 - val_loss: 1.1194 - val_accuracy: 0.6106\n",
      "Epoch 27/50\n",
      "782/782 [==============================] - 74s 94ms/step - loss: 1.1693 - accuracy: 0.5855 - val_loss: 0.8766 - val_accuracy: 0.6973\n",
      "Epoch 28/50\n",
      "782/782 [==============================] - 76s 97ms/step - loss: 1.1745 - accuracy: 0.5835 - val_loss: 0.9398 - val_accuracy: 0.6682\n",
      "Epoch 29/50\n",
      "782/782 [==============================] - 74s 94ms/step - loss: 1.1672 - accuracy: 0.5859 - val_loss: 0.9335 - val_accuracy: 0.6683\n",
      "Epoch 30/50\n",
      "782/782 [==============================] - 73s 94ms/step - loss: 1.1704 - accuracy: 0.5830 - val_loss: 0.9421 - val_accuracy: 0.6658\n",
      "Epoch 31/50\n",
      "782/782 [==============================] - 74s 94ms/step - loss: 1.1508 - accuracy: 0.5967 - val_loss: 0.9014 - val_accuracy: 0.6806\n",
      "Epoch 32/50\n",
      "782/782 [==============================] - 75s 96ms/step - loss: 1.1622 - accuracy: 0.5877 - val_loss: 0.9925 - val_accuracy: 0.6442\n",
      "Epoch 33/50\n",
      "782/782 [==============================] - 70s 90ms/step - loss: 1.1601 - accuracy: 0.5926 - val_loss: 0.9163 - val_accuracy: 0.6803\n",
      "Epoch 34/50\n",
      "782/782 [==============================] - 73s 94ms/step - loss: 1.1559 - accuracy: 0.5928 - val_loss: 1.0341 - val_accuracy: 0.6349\n",
      "Epoch 35/50\n",
      "782/782 [==============================] - 76s 96ms/step - loss: 1.1540 - accuracy: 0.5910 - val_loss: 0.9561 - val_accuracy: 0.6606\n",
      "Epoch 36/50\n",
      "782/782 [==============================] - 76s 96ms/step - loss: 1.1445 - accuracy: 0.5916 - val_loss: 0.9209 - val_accuracy: 0.6744\n",
      "Epoch 37/50\n",
      "782/782 [==============================] - 73s 94ms/step - loss: 1.1461 - accuracy: 0.5952 - val_loss: 0.9766 - val_accuracy: 0.6568\n",
      "Epoch 00037: early stopping\n"
     ]
    }
   ],
   "source": [
    "\n",
    "datagen = ImageDataGenerator(\n",
    "#         featurewise_center=False,\n",
    "#         samplewise_center=True,\n",
    "#         featurewise_std_normalization=True,\n",
    "#         samplewise_std_normalization=True,\n",
    "#         zca_whitening=True,\n",
    "        rotation_range = 20,  # randomly rotate images in the range (degrees, 0 to 180)\n",
    "        horizontal_flip = True,  # randomly flip images\n",
    "        width_shift_range=0.2,\n",
    "        height_shift_range=0.2,\n",
    "        shear_range = 0.1,\n",
    "        zoom_range = 0.1)\n",
    "        #vertical_flip = False\n",
    "    \n",
    "    \n",
    "# Compute quantities required for feature-wise normalization\n",
    "# (std, mean, and principal components if ZCA whitening is applied).\n",
    "datagen.fit(x_train)\n",
    "  \n",
    "\n",
    "# fit the model on batches generated by datagen.flow()\n",
    "from tensorflow.keras.callbacks import EarlyStopping\n",
    "early_stop = EarlyStopping(monitor = 'val_loss', mode = 'min',\n",
    "                            verbose = 2, patience = 10)\n",
    "\n",
    "history = cnn.fit_generator(datagen.flow(x_train, y_train,\n",
    "                            batch_size=64),\n",
    "                            epochs=50,\n",
    "                            validation_data=(x_test, y_test),\n",
    "                            callbacks=[early_stop])\n",
    "\n",
    "# padding = same\n",
    "#  kernel_initializer = 'normal',"
   ]
  },
  {
   "cell_type": "code",
   "execution_count": null,
   "metadata": {},
   "outputs": [],
   "source": []
  },
  {
   "cell_type": "code",
   "execution_count": null,
   "metadata": {},
   "outputs": [],
   "source": []
  },
  {
   "cell_type": "code",
   "execution_count": 1520,
   "metadata": {},
   "outputs": [
    {
     "name": "stdout",
     "output_type": "stream",
     "text": [
      "313/313 - 3s - loss: 0.9766 - accuracy: 0.6568\n"
     ]
    },
    {
     "data": {
      "image/png": "[encoded data removed]",
      "text/plain": [
       "<Figure size 432x288 with 1 Axes>"
      ]
     },
     "metadata": {
      "needs_background": "light"
     },
     "output_type": "display_data"
    }
   ],
   "source": [
    "plt.plot(history.history['accuracy'], label='accuracy')\n",
    "plt.plot(history.history['val_accuracy'], label = 'val_accuracy')\n",
    "plt.xlabel('Epoch')\n",
    "plt.ylabel('Accuracy')\n",
    "plt.ylim([0.5, 1])\n",
    "plt.legend(loc='lower right')\n",
    "\n",
    "test_loss, test_acc = cnn.evaluate(x_test,  y_test, verbose=2)"
   ]
  },
  {
   "cell_type": "code",
   "execution_count": 1521,
   "metadata": {},
   "outputs": [
    {
     "name": "stdout",
     "output_type": "stream",
     "text": [
      "0.6567999720573425\n"
     ]
    }
   ],
   "source": [
    "print(test_acc)"
   ]
  },
  {
   "cell_type": "code",
   "execution_count": 1522,
   "metadata": {},
   "outputs": [],
   "source": [
    "predictions = np.argmax(cnn.predict(x_test), axis=-1)\n",
    "num = range(1,10001)"
   ]
  },
  {
   "cell_type": "code",
   "execution_count": 1523,
   "metadata": {},
   "outputs": [],
   "source": [
    "submit = pd.DataFrame(num,columns=['id'])\n",
    "submit['class'] = predictions"
   ]
  },
  {
   "cell_type": "code",
   "execution_count": null,
   "metadata": {},
   "outputs": [],
   "source": []
  },
  {
   "cell_type": "code",
   "execution_count": 1524,
   "metadata": {},
   "outputs": [],
   "source": [
    "submit.to_csv('submit.csv', index = False)"
   ]
  },
  {
   "cell_type": "code",
   "execution_count": null,
   "metadata": {},
   "outputs": [],
   "source": []
  },
  {
   "cell_type": "code",
   "execution_count": null,
   "metadata": {},
   "outputs": [],
   "source": []
  }
 ],
 "metadata": {
  "kernelspec": {
   "display_name": "Python 3",
   "language": "python",
   "name": "python3"
  },
  "language_info": {
   "codemirror_mode": {
    "name": "ipython",
    "version": 3
   },
   "file_extension": ".py",
   "mimetype": "text/x-python",
   "name": "python",
   "nbconvert_exporter": "python",
   "pygments_lexer": "ipython3",
   "version": "3.8.3"
  }
 },
 "nbformat": 4,
 "nbformat_minor": 4
}
